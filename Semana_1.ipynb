{
  "nbformat": 4,
  "nbformat_minor": 0,
  "metadata": {
    "colab": {
      "provenance": [],
      "authorship_tag": "ABX9TyOklSy7oE9DAaSh7TlNYjqO",
      "include_colab_link": true
    },
    "kernelspec": {
      "name": "python3",
      "display_name": "Python 3"
    },
    "language_info": {
      "name": "python"
    }
  },
  "cells": [
    {
      "cell_type": "markdown",
      "metadata": {
        "id": "view-in-github",
        "colab_type": "text"
      },
      "source": [
        "<a href=\"https://colab.research.google.com/github/Diegoh-05/prog-bas/blob/main/Semana_1.ipynb\" target=\"_parent\"><img src=\"https://colab.research.google.com/assets/colab-badge.svg\" alt=\"Open In Colab\"/></a>"
      ]
    },
    {
      "cell_type": "markdown",
      "source": [
        "Ejercicio 1\n",
        "¿Cual es la funcion de la memoria secundaria en una computadora?\n",
        "Respuesta: c) Almacenar informacion durante mucho tiempo, incluso despues de ciclos de apagado y encendido.\n",
        "\n",
        "Ejercicio 2\n",
        "¿Que es un programa?\n",
        "Respuesta: Es una secuencia de declaraciones o sentencias que han sido diseñadas para hacer algo.\n",
        "\n",
        "Ejercicio 3\n",
        "¿Cual es la diferencia entre un compilador y un interprete?\n",
        "Respuesta: El interprete es capaz de mantener una conversacion interactiva y el compilador necesita que le entreguen el programa completo en un fichero y luego ejecuta un proceso para traducir el codigo fuente en codigo maquina, despues coloca el codigo maquina resultante en otro fichero para su ejecucion posterior.\n",
        "\n",
        "Ejercicio 4\n",
        "¿Cual de las siguientes contiene codigo maquina?\n",
        "Respuesta: a) El interprete de Python.\n",
        "\n",
        "Ejercicio 5\n",
        "¿Que esta mal en el siguiente codigo?\n",
        "primt´!Hola mundo!´\n",
        "File\"stdin\", line1\n",
        "primt´!Hola mundo!´\n",
        "^\n",
        "SyntaxError:invalid syntax\n",
        "▶\n",
        "Respuesta: deberia ser print:(\"!Hola mundo!\")\n",
        "\n",
        "Ejercicio 6\n",
        "¿En que lugar de la computadora queda almacenada una variable, como en este caso \"x\" despues de ejecutar la siguiente linea de python?\n",
        "x=123\n",
        "Respuesta: b) Memoria principal\n",
        "\n",
        "Ejercicio 7\n",
        "¿Que mostaria en pantalla el siguiente programa?\n",
        "x=43\n",
        "x=x+1\n",
        "print(x)\n",
        "Respuesta: b) 44\n",
        "\n",
        "Ejercicio 8\n",
        "Explica cada uno de los siguientes conceptos usando un ejemplo de una capacidad humana.\n",
        "1-Unidad Central de Procesamiento\n",
        "2-Memoria Principal\n",
        "3-Memoria Secundaria\n",
        "4-Dispositivos de Entrada\n",
        "5-Dispositivos de Salida\n",
        "Respuesta:\n",
        "1-Corazon\n",
        "2-Pensamiento\n",
        "3-Memoria\n",
        "4-Respirar\n",
        "5-Comer\n",
        "\n",
        "Ejercicio 9\n",
        "¿Como puedes corregir un \"Error de sintaxis\"?\n",
        "Respuesta: Depurando el programa\n"
      ],
      "metadata": {
        "id": "J4cJdiVi6CLt"
      }
    }
  ]
}